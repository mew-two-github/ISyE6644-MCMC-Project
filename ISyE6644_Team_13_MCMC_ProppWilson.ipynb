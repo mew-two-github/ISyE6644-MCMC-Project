{
  "nbformat": 4,
  "nbformat_minor": 0,
  "metadata": {
    "colab": {
      "provenance": []
    },
    "kernelspec": {
      "name": "python3",
      "display_name": "Python 3"
    },
    "language_info": {
      "name": "python"
    }
  },
  "cells": [
    {
      "cell_type": "code",
      "execution_count": 5,
      "metadata": {
        "id": "FdbYsKqXz98R"
      },
      "outputs": [],
      "source": [
        "import numpy as np\n",
        "import random\n",
        "from numpy.random import rand\n",
        "import matplotlib\n",
        "import matplotlib.pyplot as plt"
      ]
    },
    {
      "cell_type": "markdown",
      "source": [
        "## Utilities"
      ],
      "metadata": {
        "id": "LYOdXfzOM498"
      }
    },
    {
      "cell_type": "markdown",
      "source": [
        "### Initialise X0"
      ],
      "metadata": {
        "id": "E5fF5l62M8OE"
      }
    },
    {
      "cell_type": "code",
      "source": [
        "def state_X0(N):\n",
        "  state = np.zeros((2,N,N))\n",
        "  state[0,:,:] = 1\n",
        "  state[1,:,:] = -1\n",
        "  return(state)"
      ],
      "metadata": {
        "id": "JT83uCFIY_7G"
      },
      "execution_count": 36,
      "outputs": []
    },
    {
      "cell_type": "code",
      "source": [
        "state = state_X0(3)\n",
        "print(state)"
      ],
      "metadata": {
        "colab": {
          "base_uri": "https://localhost:8080/"
        },
        "id": "-UzfcmPvdHrm",
        "outputId": "ca13de57-ddb0-47dd-8039-58b70f1031ae"
      },
      "execution_count": 49,
      "outputs": [
        {
          "output_type": "stream",
          "name": "stdout",
          "text": [
            "[[[ 1.  1.  1.]\n",
            "  [ 1.  1.  1.]\n",
            "  [ 1.  1.  1.]]\n",
            "\n",
            " [[-1. -1. -1.]\n",
            "  [-1. -1. -1.]\n",
            "  [-1. -1. -1.]]]\n"
          ]
        }
      ]
    },
    {
      "cell_type": "markdown",
      "source": [
        "### Calculate energy difference of flipping the [i,j] vertex"
      ],
      "metadata": {
        "id": "bzud34OMM_n9"
      }
    },
    {
      "cell_type": "code",
      "source": [
        "def deltaE(i,j,state):\n",
        "    N = state.shape[1]\n",
        "    top = 1\n",
        "    bottom = 1\n",
        "    left = 1\n",
        "    right = 1\n",
        "    if i != 0:\n",
        "      top = state[i - 1, j]\n",
        "    if i != N-1:\n",
        "      bottom = state[i + 1, j]\n",
        "    if j != 0:\n",
        "      left = state[i, j - 1]\n",
        "    if j != N-1:\n",
        "      right = state[i, j + 1]\n",
        "    energy = 2*state[i,j]*np.sum([top,bottom,left,right])\n",
        "    return energy"
      ],
      "metadata": {
        "id": "T_eTaoIaMHp6"
      },
      "execution_count": 37,
      "outputs": []
    },
    {
      "cell_type": "markdown",
      "source": [
        "### Update State"
      ],
      "metadata": {
        "id": "dZFK_wGSOiEy"
      }
    },
    {
      "cell_type": "code",
      "source": [
        "def updateState(t, state, U, T):\n",
        "  B = 1/T\n",
        "  E = np.zeros(3)\n",
        "  i = int(U[1,int(-t)-1]) - 1\n",
        "  j = int(U[2,int(-t)-1]) - 1\n",
        "  for h in range(2):\n",
        "    E[h] = deltaE(i,j,state[h,:,:])\n",
        "    u = U[0, int(-t)]\n",
        "    # print(\"U=\",u)\n",
        "    if state[h,i,j] == 1:\n",
        "      u = 1 - u\n",
        "    # print(\"val = \", 0.5 * (B * E[h]))\n",
        "    if u < 0.5 * (1 - np.tanh(0.5 * B * E[h])):  # Inverse Transform for discrete RVs\n",
        "      state[h, i, j] = -state[h, i, j] # flip if probability allows\n",
        "    else:\n",
        "      state[h, i, j] = state[h, i, j] # no flip\n",
        "  return state\n",
        ""
      ],
      "metadata": {
        "id": "8pH4RHDsOkOF"
      },
      "execution_count": 38,
      "outputs": []
    },
    {
      "cell_type": "code",
      "source": [
        "def runChain(t, state, U, T):\n",
        "    while t < 0:\n",
        "        state = updateState(t, state, U,T)\n",
        "        t += 1\n",
        "    return state"
      ],
      "metadata": {
        "id": "FBW2Orp2PxyZ"
      },
      "execution_count": 9,
      "outputs": []
    },
    {
      "cell_type": "markdown",
      "source": [
        "### Run Propp-Wilson"
      ],
      "metadata": {
        "id": "6qwW7qB8R-d4"
      }
    },
    {
      "cell_type": "code",
      "source": [
        "# Uniform randoms of size time steps\n",
        "def generateRandoms(N, M):\n",
        "  U = np.random.rand(3,M) # Random numbers to determine transition probabilities\n",
        "  U[1:,:] = np.ceil(N*U[1:,:]) # Random numbers to pick the location in the grid to be flipped\n",
        "  return U\n",
        "\n",
        "# Generate a vector of times\n",
        "def StartingTimes(k):\n",
        "  M = np.zeros(k)\n",
        "  M[0] = 1\n",
        "  for i in range(1,k):\n",
        "    M[i] = 2*M[i-1]\n",
        "  return M\n",
        "\n",
        "def runPW(N,k,T):\n",
        "  M = StartingTimes(k) # Bunch of starting times\n",
        "  M = M.astype(int) # Changing it from floats to integers to avoid some Python stuff\n",
        "  U = generateRandoms(N,1) # Randoms going to be used for the simulation\n",
        "  state = state_X0(N) # Initial state\n",
        "  m = 2\n",
        "  prev_state = state_X0(N)\n",
        "  count = 0\n",
        "  while np.any(state[0, :, :] != state[1, :, :]):\n",
        "    # concat more randoms as we increase the time\n",
        "    U_more = generateRandoms(N, int(M[m-1] - M[m-2]))\n",
        "    U = np.concatenate((U, U_more),axis=1)\n",
        "    # Magnetization is a measure of how close we are getting to convergence\n",
        "    magnetization = np.sum(np.sum(state[0,:,:])-np.sum(state[1,:,:]))\n",
        "    print(\"magnetization= \",magnetization, \"iteration= \", m-1)\n",
        "    # Run each of the chains for M[m-1] steps, - 1 is because indexing in python is from 0\n",
        "    state = runChain(-int(M[m-1]-1), state, U, T )\n",
        "    # Change starting time for the next iteration\n",
        "    m += 1\n",
        "    # Check for convergence\n",
        "    if np.any( state[0,:,:] != state[1,:,:] ):\n",
        "      prev_state[1,:,:] =   state[1,:,:]\n",
        "    count += 1\n",
        "  return state[0,:,:], prev_state[1,:,:]"
      ],
      "metadata": {
        "id": "zQ0uHt6LQGuG"
      },
      "execution_count": 33,
      "outputs": []
    },
    {
      "cell_type": "code",
      "source": [
        "state, before = runPW(10,20,2)"
      ],
      "metadata": {
        "colab": {
          "base_uri": "https://localhost:8080/"
        },
        "id": "hheww2OaSh8L",
        "outputId": "9065cb30-5264-4a36-e4eb-cce0e540e230"
      },
      "execution_count": 43,
      "outputs": [
        {
          "output_type": "stream",
          "name": "stdout",
          "text": [
            "magnetization=  200.0 iteration=  1\n",
            "magnetization=  200.0 iteration=  2\n",
            "magnetization=  200.0 iteration=  3\n",
            "magnetization=  200.0 iteration=  4\n",
            "magnetization=  200.0 iteration=  5\n",
            "magnetization=  194.0 iteration=  6\n",
            "magnetization=  190.0 iteration=  7\n",
            "magnetization=  186.0 iteration=  8\n",
            "magnetization=  170.0 iteration=  9\n",
            "magnetization=  144.0 iteration=  10\n",
            "magnetization=  108.0 iteration=  11\n",
            "magnetization=  36.0 iteration=  12\n"
          ]
        }
      ]
    },
    {
      "cell_type": "markdown",
      "source": [
        "### Code to plot the state in a cool format\n",
        "borrowed from https://github.com/sefeoglu/propp-wilson_Ising_Model/blob/master/ProppWilsonAlgorithm_for_IsingModel%20_MCM.ipynb"
      ],
      "metadata": {
        "id": "RqrmtU5TU6Lb"
      }
    },
    {
      "cell_type": "code",
      "source": [
        "def Graph(state, T):\n",
        "    S = state.shape[1]  # Takes the size of the matrix\n",
        "    print(\"Plotting!\")\n",
        "    for i in range(S):\n",
        "        for j in range(S):\n",
        "            if state[i][j] == 1:  # Graphs a red + if the matrix entry is positive\n",
        "                plt.scatter(j, S - 1 - i, c='r', marker=',', )#s=(150,))\n",
        "            elif state[i][j] == -1:  # Graphs a blue minus is the matrix is negative\n",
        "                plt.scatter(j, S - 1 - i, c='b', marker=',', )#s=(150,))\n",
        "    plt.title(\"Sample, T=%d\" % (T) )\n",
        "    print(\"Done!\")\n",
        "    plt.show()"
      ],
      "metadata": {
        "id": "6gR9TTy5U3EO"
      },
      "execution_count": 44,
      "outputs": []
    },
    {
      "cell_type": "code",
      "source": [
        "Graph(state,2)"
      ],
      "metadata": {
        "colab": {
          "base_uri": "https://localhost:8080/",
          "height": 488
        },
        "id": "GYpWmrHtVCxQ",
        "outputId": "f69b8488-78b1-4512-c3a3-c26a634ecb48"
      },
      "execution_count": 45,
      "outputs": [
        {
          "output_type": "stream",
          "name": "stdout",
          "text": [
            "Plotting!\n",
            "Done!\n"
          ]
        },
        {
          "output_type": "display_data",
          "data": {
            "text/plain": [
              "<Figure size 640x480 with 1 Axes>"
            ],
            "image/png": "[encoded data removed]"
          },
          "metadata": {}
        }
      ]
    },
    {
      "cell_type": "code",
      "source": [
        "Graph(before,2)"
      ],
      "metadata": {
        "colab": {
          "base_uri": "https://localhost:8080/",
          "height": 488
        },
        "id": "-bGudd0YVOnk",
        "outputId": "70fbe143-ba7f-4591-ecce-26ab45f22072"
      },
      "execution_count": 46,
      "outputs": [
        {
          "output_type": "stream",
          "name": "stdout",
          "text": [
            "Plotting!\n",
            "Done!\n"
          ]
        },
        {
          "output_type": "display_data",
          "data": {
            "text/plain": [
              "<Figure size 640x480 with 1 Axes>"
            ],
            "image/png": "[encoded data removed]"
          },
          "metadata": {}
        }
      ]
    },
    {
      "cell_type": "code",
      "source": [
        "before"
      ],
      "metadata": {
        "colab": {
          "base_uri": "https://localhost:8080/"
        },
        "id": "19aYfaAKfF7i",
        "outputId": "3969c0aa-e1cb-4827-bf40-c93332bd98c7"
      },
      "execution_count": 47,
      "outputs": [
        {
          "output_type": "execute_result",
          "data": {
            "text/plain": [
              "array([[ 1.,  1.,  1.,  1.,  1.,  1.,  1.,  1.,  1.,  1.],\n",
              "       [ 1.,  1.,  1.,  1.,  1.,  1.,  1.,  1.,  1.,  1.],\n",
              "       [ 1.,  1., -1., -1.,  1.,  1.,  1.,  1.,  1.,  1.],\n",
              "       [ 1.,  1., -1., -1., -1.,  1.,  1.,  1.,  1.,  1.],\n",
              "       [ 1.,  1.,  1., -1., -1.,  1.,  1.,  1.,  1.,  1.],\n",
              "       [-1.,  1.,  1., -1., -1.,  1.,  1.,  1.,  1.,  1.],\n",
              "       [ 1.,  1.,  1., -1., -1., -1.,  1.,  1.,  1.,  1.],\n",
              "       [ 1.,  1.,  1., -1., -1.,  1.,  1.,  1., -1.,  1.],\n",
              "       [ 1.,  1.,  1., -1., -1., -1.,  1.,  1., -1.,  1.],\n",
              "       [ 1.,  1., -1., -1., -1.,  1.,  1.,  1.,  1.,  1.]])"
            ]
          },
          "metadata": {},
          "execution_count": 47
        }
      ]
    },
    {
      "cell_type": "code",
      "source": [
        "state"
      ],
      "metadata": {
        "colab": {
          "base_uri": "https://localhost:8080/"
        },
        "id": "S8Y3ss_UfKDx",
        "outputId": "49fd4d5a-7ecd-4580-f8cb-9f8206ae9fe0"
      },
      "execution_count": 48,
      "outputs": [
        {
          "output_type": "execute_result",
          "data": {
            "text/plain": [
              "array([[ 1.,  1.,  1.,  1.,  1.,  1.,  1.,  1.,  1.,  1.],\n",
              "       [ 1.,  1.,  1.,  1.,  1.,  1.,  1.,  1.,  1.,  1.],\n",
              "       [ 1.,  1., -1.,  1.,  1.,  1.,  1.,  1.,  1.,  1.],\n",
              "       [ 1.,  1.,  1.,  1.,  1.,  1.,  1.,  1.,  1.,  1.],\n",
              "       [ 1.,  1.,  1.,  1.,  1.,  1.,  1.,  1.,  1.,  1.],\n",
              "       [-1.,  1.,  1.,  1.,  1.,  1.,  1.,  1.,  1.,  1.],\n",
              "       [ 1.,  1.,  1.,  1.,  1.,  1.,  1.,  1.,  1.,  1.],\n",
              "       [ 1.,  1.,  1.,  1.,  1.,  1.,  1.,  1., -1.,  1.],\n",
              "       [ 1.,  1.,  1.,  1.,  1.,  1.,  1.,  1., -1.,  1.],\n",
              "       [ 1.,  1.,  1.,  1., -1.,  1.,  1.,  1.,  1.,  1.]])"
            ]
          },
          "metadata": {},
          "execution_count": 48
        }
      ]
    },
    {
      "cell_type": "markdown",
      "source": [
        "# Experiments"
      ],
      "metadata": {
        "id": "ZNtIR3Wxg6AS"
      }
    },
    {
      "cell_type": "markdown",
      "source": [
        "### Changing N"
      ],
      "metadata": {
        "id": "Wr0o0ph5g8Ru"
      }
    },
    {
      "cell_type": "code",
      "source": [
        "state, before = runPW(5,20,2)\n",
        "Graph(state,2)"
      ],
      "metadata": {
        "colab": {
          "base_uri": "https://localhost:8080/",
          "height": 630
        },
        "id": "eJm3Iv21Zjuu",
        "outputId": "f2d3a2f8-7fac-49e3-ade7-18d1fc8124d0"
      },
      "execution_count": 52,
      "outputs": [
        {
          "output_type": "stream",
          "name": "stdout",
          "text": [
            "magnetization=  50.0 iteration=  1\n",
            "magnetization=  48.0 iteration=  2\n",
            "magnetization=  48.0 iteration=  3\n",
            "magnetization=  46.0 iteration=  4\n",
            "magnetization=  40.0 iteration=  5\n",
            "magnetization=  34.0 iteration=  6\n",
            "magnetization=  30.0 iteration=  7\n",
            "magnetization=  20.0 iteration=  8\n",
            "Plotting!\n",
            "Done!\n"
          ]
        },
        {
          "output_type": "display_data",
          "data": {
            "text/plain": [
              "<Figure size 640x480 with 1 Axes>"
            ],
            "image/png": "[encoded data removed]"
          },
          "metadata": {}
        }
      ]
    },
    {
      "cell_type": "code",
      "source": [
        "state, before = runPW(20,20,2)\n",
        "Graph(state,2)"
      ],
      "metadata": {
        "colab": {
          "base_uri": "https://localhost:8080/",
          "height": 754
        },
        "id": "FT-UtIFOhCP8",
        "outputId": "57c279a1-d9a3-4ae3-b22f-5e36f6396984"
      },
      "execution_count": 54,
      "outputs": [
        {
          "output_type": "stream",
          "name": "stdout",
          "text": [
            "magnetization=  800.0 iteration=  1\n",
            "magnetization=  800.0 iteration=  2\n",
            "magnetization=  800.0 iteration=  3\n",
            "magnetization=  800.0 iteration=  4\n",
            "magnetization=  800.0 iteration=  5\n",
            "magnetization=  796.0 iteration=  6\n",
            "magnetization=  792.0 iteration=  7\n",
            "magnetization=  786.0 iteration=  8\n",
            "magnetization=  770.0 iteration=  9\n",
            "magnetization=  740.0 iteration=  10\n",
            "magnetization=  706.0 iteration=  11\n",
            "magnetization=  626.0 iteration=  12\n",
            "magnetization=  454.0 iteration=  13\n",
            "magnetization=  348.0 iteration=  14\n",
            "magnetization=  250.0 iteration=  15\n",
            "Plotting!\n",
            "Done!\n"
          ]
        },
        {
          "output_type": "display_data",
          "data": {
            "text/plain": [
              "<Figure size 640x480 with 1 Axes>"
            ],
            "image/png": "[encoded data removed]"
          },
          "metadata": {}
        }
      ]
    },
    {
      "cell_type": "code",
      "source": [],
      "metadata": {
        "id": "o8oOikmWhTRA"
      },
      "execution_count": null,
      "outputs": []
    },
    {
      "cell_type": "markdown",
      "source": [
        "### Changing Temperature"
      ],
      "metadata": {
        "id": "Ejnqly22hkLO"
      }
    },
    {
      "cell_type": "code",
      "source": [
        "T = 5\n",
        "state, before = runPW(10,20,T)\n",
        "Graph(state, T)"
      ],
      "metadata": {
        "colab": {
          "base_uri": "https://localhost:8080/",
          "height": 665
        },
        "id": "pkcRWuF8hoFN",
        "outputId": "cc45b9c4-0659-4595-bc03-12a4da7b6047"
      },
      "execution_count": 55,
      "outputs": [
        {
          "output_type": "stream",
          "name": "stdout",
          "text": [
            "magnetization=  200.0 iteration=  1\n",
            "magnetization=  200.0 iteration=  2\n",
            "magnetization=  196.0 iteration=  3\n",
            "magnetization=  190.0 iteration=  4\n",
            "magnetization=  180.0 iteration=  5\n",
            "magnetization=  174.0 iteration=  6\n",
            "magnetization=  158.0 iteration=  7\n",
            "magnetization=  110.0 iteration=  8\n",
            "magnetization=  60.0 iteration=  9\n",
            "magnetization=  10.0 iteration=  10\n",
            "Plotting!\n",
            "Done!\n"
          ]
        },
        {
          "output_type": "display_data",
          "data": {
            "text/plain": [
              "<Figure size 640x480 with 1 Axes>"
            ],
            "image/png": "[encoded data removed]"
          },
          "metadata": {}
        }
      ]
    },
    {
      "cell_type": "code",
      "source": [
        "T = 20\n",
        "state, before = runPW(10,20,T)\n",
        "Graph(state, T)"
      ],
      "metadata": {
        "colab": {
          "base_uri": "https://localhost:8080/",
          "height": 647
        },
        "id": "Xx4nMEp5huV9",
        "outputId": "0c77718f-f6ce-46b9-c579-a27ea85ed3ae"
      },
      "execution_count": 57,
      "outputs": [
        {
          "output_type": "stream",
          "name": "stdout",
          "text": [
            "magnetization=  200.0 iteration=  1\n",
            "magnetization=  198.0 iteration=  2\n",
            "magnetization=  196.0 iteration=  3\n",
            "magnetization=  190.0 iteration=  4\n",
            "magnetization=  178.0 iteration=  5\n",
            "magnetization=  150.0 iteration=  6\n",
            "magnetization=  114.0 iteration=  7\n",
            "magnetization=  76.0 iteration=  8\n",
            "magnetization=  26.0 iteration=  9\n",
            "Plotting!\n",
            "Done!\n"
          ]
        },
        {
          "output_type": "display_data",
          "data": {
            "text/plain": [
              "<Figure size 640x480 with 1 Axes>"
            ],
            "image/png": "[encoded data removed]"
          },
          "metadata": {}
        }
      ]
    },
    {
      "cell_type": "code",
      "source": [],
      "metadata": {
        "id": "aDfsiyoVhxxZ"
      },
      "execution_count": null,
      "outputs": []
    }
  ]
}